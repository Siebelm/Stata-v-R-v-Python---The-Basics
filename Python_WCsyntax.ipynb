{
 "cells": [
  {
   "cell_type": "code",
   "execution_count": 38,
   "metadata": {
    "collapsed": true
   },
   "outputs": [],
   "source": [
    "# import jtplot module in notebook\n",
    "from jupyterthemes import jtplot\n",
    "\n",
    "# choose which theme to inherit plotting style from\n",
    "# onedork | grade3 | oceans16 | chesterish | monokai | solarizedl | solarizedd\n",
    "jtplot.style(theme='chesterish')\n",
    "\n",
    "# turn on X- and Y-axis tick marks (default=False)\n",
    "# turn off the axis grid lines (default=True)\n",
    "# and set the default figure size\n",
    "jtplot.style(grid=False)\n",
    "\n",
    "# reset default matplotlib rcParams\n",
    "#jtplot.reset()"
   ]
  },
  {
   "cell_type": "code",
   "execution_count": 39,
   "metadata": {},
   "outputs": [
    {
     "data": {
      "text/html": [
       "<div>\n",
       "<style>\n",
       "    .dataframe thead tr:only-child th {\n",
       "        text-align: right;\n",
       "    }\n",
       "\n",
       "    .dataframe thead th {\n",
       "        text-align: left;\n",
       "    }\n",
       "\n",
       "    .dataframe tbody tr th {\n",
       "        vertical-align: top;\n",
       "    }\n",
       "</style>\n",
       "<table border=\"1\" class=\"dataframe\">\n",
       "  <thead>\n",
       "    <tr style=\"text-align: right;\">\n",
       "      <th></th>\n",
       "      <th>date</th>\n",
       "      <th>home_team</th>\n",
       "      <th>away_team</th>\n",
       "      <th>home_score</th>\n",
       "      <th>away_score</th>\n",
       "      <th>tournament</th>\n",
       "      <th>neutral</th>\n",
       "    </tr>\n",
       "  </thead>\n",
       "  <tbody>\n",
       "    <tr>\n",
       "      <th>0</th>\n",
       "      <td>1872-11-30</td>\n",
       "      <td>Scotland</td>\n",
       "      <td>England</td>\n",
       "      <td>0</td>\n",
       "      <td>0</td>\n",
       "      <td>Friendly</td>\n",
       "      <td>False</td>\n",
       "    </tr>\n",
       "    <tr>\n",
       "      <th>1</th>\n",
       "      <td>1873-03-08</td>\n",
       "      <td>England</td>\n",
       "      <td>Scotland</td>\n",
       "      <td>4</td>\n",
       "      <td>2</td>\n",
       "      <td>Friendly</td>\n",
       "      <td>False</td>\n",
       "    </tr>\n",
       "    <tr>\n",
       "      <th>2</th>\n",
       "      <td>1874-03-07</td>\n",
       "      <td>Scotland</td>\n",
       "      <td>England</td>\n",
       "      <td>2</td>\n",
       "      <td>1</td>\n",
       "      <td>Friendly</td>\n",
       "      <td>False</td>\n",
       "    </tr>\n",
       "    <tr>\n",
       "      <th>3</th>\n",
       "      <td>1875-03-06</td>\n",
       "      <td>England</td>\n",
       "      <td>Scotland</td>\n",
       "      <td>2</td>\n",
       "      <td>2</td>\n",
       "      <td>Friendly</td>\n",
       "      <td>False</td>\n",
       "    </tr>\n",
       "    <tr>\n",
       "      <th>4</th>\n",
       "      <td>1876-03-04</td>\n",
       "      <td>Scotland</td>\n",
       "      <td>England</td>\n",
       "      <td>3</td>\n",
       "      <td>0</td>\n",
       "      <td>Friendly</td>\n",
       "      <td>False</td>\n",
       "    </tr>\n",
       "  </tbody>\n",
       "</table>\n",
       "</div>"
      ],
      "text/plain": [
       "         date home_team away_team  home_score  away_score tournament  neutral\n",
       "0  1872-11-30  Scotland   England           0           0   Friendly    False\n",
       "1  1873-03-08   England  Scotland           4           2   Friendly    False\n",
       "2  1874-03-07  Scotland   England           2           1   Friendly    False\n",
       "3  1875-03-06   England  Scotland           2           2   Friendly    False\n",
       "4  1876-03-04  Scotland   England           3           0   Friendly    False"
      ]
     },
     "execution_count": 39,
     "metadata": {},
     "output_type": "execute_result"
    }
   ],
   "source": [
    "##Load data set\n",
    "#Congrats: You already set your working directory by openning this file\n",
    "\n",
    "#Load pandas\n",
    "import pandas as pd\n",
    "\n",
    "#Import CSV & drop variables\n",
    "df = pd.read_csv('results.csv', sep=',').drop(['city', 'country'], axis=1)\n",
    "#.set_index('date')\n",
    "\n",
    "#Remove a warning message\n",
    "pd.options.mode.chained_assignment = None  # default='warn'\n",
    "\n",
    "#Check first few rows\n",
    "df.head()"
   ]
  },
  {
   "cell_type": "code",
   "execution_count": 40,
   "metadata": {},
   "outputs": [
    {
     "data": {
      "text/plain": [
       "date          object\n",
       "home_team     object\n",
       "away_team     object\n",
       "home_score     int64\n",
       "away_score     int64\n",
       "tournament    object\n",
       "neutral         bool\n",
       "dtype: object"
      ]
     },
     "execution_count": 40,
     "metadata": {},
     "output_type": "execute_result"
    }
   ],
   "source": [
    "##Load data set\n",
    "#Check variables\n",
    "df.dtypes"
   ]
  },
  {
   "cell_type": "code",
   "execution_count": null,
   "metadata": {},
   "outputs": [
    {
     "data": {
      "text/plain": [
       "date          0\n",
       "home_team     0\n",
       "away_team     0\n",
       "home_score    0\n",
       "away_score    0\n",
       "tournament    0\n",
       "neutral       0\n",
       "dtype: int64"
      ]
     },
     "execution_count": 41,
     "metadata": {},
     "output_type": "execute_result"
    }
   ],
   "source": [
    "##Load data set\n",
    "#Check missings (NaN's)\n",
    "df.isnull().sum(axis=0)"
   ]
  },
  {
   "cell_type": "code",
   "execution_count": null,
   "metadata": {},
   "outputs": [],
   "source": [
    "##Load data set\n",
    "#Subset data to only include Germany matches \n",
    "df_ger = df[(df['home_team'] == 'Germany') | (df['away_team'] == 'Germany')]\n",
    "\n",
    "df_ger.head()"
   ]
  },
  {
   "cell_type": "code",
   "execution_count": null,
   "metadata": {},
   "outputs": [],
   "source": [
    "##Load data set\n",
    "#Simple recode (total column to be counted)\n",
    "df_ger['match'] = 1\n",
    "\n",
    "df_ger.tail()"
   ]
  },
  {
   "cell_type": "code",
   "execution_count": null,
   "metadata": {},
   "outputs": [],
   "source": [
    "##Recodes and Data Manpulation\n",
    "#Conditional recode (Define Goals Scored)\n",
    "df_ger['goals'] = df_ger.loc[df_ger['home_team'] == 'Germany','home_score']\n",
    "df_ger['goals'] = df_ger['goals'].fillna(df_ger.loc[df_ger['away_team'] == 'Germany','away_score'])\n",
    "\n",
    "df_ger.tail()"
   ]
  },
  {
   "cell_type": "code",
   "execution_count": null,
   "metadata": {},
   "outputs": [],
   "source": [
    "##Recodes and Data Manpulation\n",
    "#Conditional recode (Define Goals Conceded)\n",
    "df_ger['conceded'] = df_ger.loc[df_ger['home_team'] == 'Germany','away_score']\n",
    "df_ger['conceded'] = df_ger['conceded'].fillna(df_ger.loc[df_ger['away_team'] == 'Germany','home_score'])\n",
    "\n",
    "df_ger.tail()"
   ]
  },
  {
   "cell_type": "code",
   "execution_count": null,
   "metadata": {},
   "outputs": [],
   "source": [
    "##Recodes and Data Manpulation\n",
    "#Simple recode (Define Goal Differential)\n",
    "df_ger['goaldiff'] = df_ger['goals'] - df_ger['conceded']\n",
    "\n",
    "df_ger.tail()"
   ]
  },
  {
   "cell_type": "code",
   "execution_count": null,
   "metadata": {},
   "outputs": [],
   "source": [
    "##Recodes and Data Manpulation\n",
    "#Dummy recode (Define Friendly v Competitive match)\n",
    "df_ger['friendly'] = df_ger['tournament'] == 'Friendly'\n",
    "\n",
    "df_ger.tail()"
   ]
  },
  {
   "cell_type": "code",
   "execution_count": null,
   "metadata": {},
   "outputs": [],
   "source": [
    "##Recodes and Data Manpulation\n",
    "#Categorical recode (home vs away vs neutral matches)\n",
    "df_ger.loc[df_ger['home_team'] == 'Germany','home'] = 'home'\n",
    "df_ger.loc[df_ger['away_team'] == 'Germany','home'] = 'away'\n",
    "df_ger.loc[df_ger['neutral'] == True,'home'] = 'neutral'\n",
    "\n",
    "df_ger.tail()"
   ]
  },
  {
   "cell_type": "code",
   "execution_count": null,
   "metadata": {},
   "outputs": [],
   "source": [
    "##Recodes and Data Manpulation\n",
    "#Conditional recode (opponent)\n",
    "df_ger['opponent'] = df_ger['home_team'].loc[(df_ger['home_team'] != 'Germany')] \n",
    "df_ger['opponent'] = df_ger['opponent'].fillna(df_ger['away_team'].loc[(df_ger['away_team'] != 'Germany')])\n",
    "\n",
    "df_ger.tail()"
   ]
  },
  {
   "cell_type": "code",
   "execution_count": null,
   "metadata": {},
   "outputs": [],
   "source": [
    "##Recodes and Data Manpulation\n",
    "#String variables (Define year)\n",
    "df_ger['year'] = df_ger['date'].str[:4]\n",
    "\n",
    "df_ger.tail()"
   ]
  },
  {
   "cell_type": "code",
   "execution_count": null,
   "metadata": {},
   "outputs": [],
   "source": [
    "##Recodes and Data Manpulation\n",
    "#Drop redundant variables\n",
    "df_ger = df_ger.drop(['home_score','away_score','tournament','neutral','home_team','away_team'], axis=1)\n",
    "\n",
    "df_ger.tail()"
   ]
  },
  {
   "cell_type": "code",
   "execution_count": null,
   "metadata": {},
   "outputs": [],
   "source": [
    "##Descriptive Statistics\n",
    "#Tabs\n",
    "tabHome = pd.crosstab(df_ger['home'],df_ger['friendly'])\n",
    "tabHome.columns=['competitive','friendly']\n",
    "\n",
    "tabHome"
   ]
  },
  {
   "cell_type": "code",
   "execution_count": null,
   "metadata": {},
   "outputs": [],
   "source": [
    "##Descriptive Statistics\n",
    "#Unweighted proportions\n",
    "propHome = round((tabHome/tabHome.sum(0))*100, ndigits = 2)\n",
    "\n",
    "propHome"
   ]
  },
  {
   "cell_type": "code",
   "execution_count": null,
   "metadata": {},
   "outputs": [],
   "source": [
    "##Descriptive Statistics\n",
    "#Goal difference table\n",
    "goaldiffTable = round(pd.pivot_table(df_ger, index=['home','friendly'], aggfunc='mean'), ndigits = 2)\n",
    "\n",
    "goaldiffTable"
   ]
  },
  {
   "cell_type": "code",
   "execution_count": null,
   "metadata": {},
   "outputs": [],
   "source": [
    "##Descriptive Statistics\n",
    "#Opponent table\n",
    "threeOpponents = df_ger.loc[df_ger['opponent'].isin(['Mexico','Sweden','Korea Republic'])] \n",
    "opponentTable = round(pd.pivot_table(threeOpponents, index=['opponent'], values=['goaldiff','match'], aggfunc={'mean', 'sum'}), ndigits = 2)\n",
    "\n",
    "opponentTable"
   ]
  },
  {
   "cell_type": "code",
   "execution_count": null,
   "metadata": {},
   "outputs": [],
   "source": [
    "##Graphs\n",
    "#Histogram\n",
    "import matplotlib.pyplot as plt\n",
    "\n",
    "plt.hist(df_ger['goaldiff'], bins='auto', facecolor='blue', alpha=0.5)\n",
    "plt.title('Histogram of Goal Differences')\n",
    "\n",
    "plt.show()"
   ]
  },
  {
   "cell_type": "code",
   "execution_count": null,
   "metadata": {},
   "outputs": [],
   "source": [
    "##Graphs\n",
    "#Someone attempted to replicate ggplot2 for python! (kindof works)\n",
    "!pip install ggplot\n",
    "from ggplot import *\n",
    "\n",
    "ggplot(df_ger, aes('goaldiff', fill='friendly')) +\\\n",
    "    geom_histogram(binwidth=.75, position=\"dodge\") +\\\n",
    "    ylab(\"Count\") + xlab(\"Goal Differential\")"
   ]
  },
  {
   "cell_type": "code",
   "execution_count": null,
   "metadata": {},
   "outputs": [],
   "source": [
    "##Graphs\n",
    "#Line chart\n",
    "\n",
    "plt.figure(figsize=(12,8))\n",
    "\n",
    "df_goaldiff_byyear = pd.pivot_table(df_ger, values='goaldiff', index=['year'], aggfunc='mean').reset_index()\n",
    "\n",
    "plt.plot(df_goaldiff_byyear['year'], df_goaldiff_byyear['goaldiff'], color='blue')\n",
    "\n",
    "plt.xticks([1908, 1938, 1968, 1998, 2018], \\\n",
    "           [1908, 1938, 1968, 1998, 2018])\n",
    "plt.suptitle('Goal Differential by Year', fontsize=18)\n",
    "\n",
    "plt.show()"
   ]
  },
  {
   "cell_type": "code",
   "execution_count": null,
   "metadata": {},
   "outputs": [],
   "source": [
    "##Graphs\n",
    "#Line chart\n",
    "plt.figure(figsize=(12,8))\n",
    "\n",
    "df_goals_byyear = pd.pivot_table(df_ger, values='goals', index=['year'], aggfunc='mean').reset_index()\n",
    "\n",
    "plt.plot(df_goals_byyear['year'], df_goals_byyear['goals'], color='green')\n",
    "\n",
    "plt.xticks([1908, 1938, 1968, 1998, 2018], \\\n",
    "           [1908, 1938, 1968, 1998, 2018])\n",
    "plt.suptitle('Goals Scored by Year', fontsize=18)\n",
    "\n",
    "plt.show()"
   ]
  },
  {
   "cell_type": "code",
   "execution_count": null,
   "metadata": {},
   "outputs": [],
   "source": [
    "##Graphs\n",
    "#Line chart\n",
    "plt.figure(figsize=(12,8))\n",
    "\n",
    "df_conceded_byyear = pd.pivot_table(df_ger, values='conceded', index=['year'], aggfunc='mean').reset_index()\n",
    "\n",
    "plt.plot(df_conceded_byyear['year'], df_conceded_byyear['conceded'], color='red')\n",
    "\n",
    "plt.xticks([1908, 1938, 1968, 1998, 2018], \\\n",
    "           [1908, 1938, 1968, 1998, 2018])\n",
    "plt.suptitle('Goals Conceded by Year', fontsize=18)\n",
    "\n",
    "plt.show()"
   ]
  },
  {
   "cell_type": "code",
   "execution_count": null,
   "metadata": {},
   "outputs": [],
   "source": [
    "##Graphs\n",
    "#Line chart\n",
    "import matplotlib.ticker as ticker\n",
    "plt.figure(figsize=(12,8))\n",
    "\n",
    "df_conceded_byyear['conceded_neg'] = df_conceded_byyear['conceded']*-1\n",
    "\n",
    "plt.axhline(0, color='white', alpha=0.2)\n",
    "goals = plt.plot(df_goals_byyear['year'], df_goals_byyear['goals'], color='green', alpha=0.4, label = 'Goals Scored') \n",
    "conceded = plt.plot(df_conceded_byyear['year'], df_conceded_byyear['conceded_neg'], color='red', alpha=0.4, label = 'Goals Conceded')\n",
    "goaldiff = plt.plot(df_goaldiff_byyear['year'], df_goaldiff_byyear['goaldiff'], color='blue', label = 'Goal Differential')\n",
    "\n",
    "plt.xticks([1908, 1938, 1968, 1998, 2018], \\\n",
    "           [1908, 1938, 1968, 1998, 2018])\n",
    "plt.suptitle('Goal Differential by Year', fontsize=18)\n",
    "plt.title('Overlay Chart', fontsize=14)\n",
    "plt.legend()\n",
    "\n",
    "plt.show()"
   ]
  },
  {
   "cell_type": "code",
   "execution_count": null,
   "metadata": {},
   "outputs": [],
   "source": []
  },
  {
   "cell_type": "code",
   "execution_count": null,
   "metadata": {
    "collapsed": true
   },
   "outputs": [],
   "source": []
  },
  {
   "cell_type": "code",
   "execution_count": null,
   "metadata": {
    "collapsed": true
   },
   "outputs": [],
   "source": []
  },
  {
   "cell_type": "code",
   "execution_count": null,
   "metadata": {
    "collapsed": true
   },
   "outputs": [],
   "source": []
  },
  {
   "cell_type": "code",
   "execution_count": null,
   "metadata": {
    "collapsed": true
   },
   "outputs": [],
   "source": []
  }
 ],
 "metadata": {
  "kernelspec": {
   "display_name": "Python 3",
   "language": "python",
   "name": "python3"
  },
  "language_info": {
   "codemirror_mode": {
    "name": "ipython",
    "version": 3
   },
   "file_extension": ".py",
   "mimetype": "text/x-python",
   "name": "python",
   "nbconvert_exporter": "python",
   "pygments_lexer": "ipython3",
   "version": "3.6.3"
  }
 },
 "nbformat": 4,
 "nbformat_minor": 2
}
